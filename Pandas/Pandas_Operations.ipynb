{
 "cells": [
  {
   "cell_type": "code",
   "execution_count": 2,
   "id": "90fdf0d7-8350-49e9-85e7-7140328532cb",
   "metadata": {},
   "outputs": [],
   "source": [
    "import pandas as pd"
   ]
  },
  {
   "cell_type": "code",
   "execution_count": 3,
   "id": "32ab36ca-4678-4c4f-98f0-2b20b623a397",
   "metadata": {},
   "outputs": [],
   "source": [
    "#Slicing the dataframes#\n",
    "xyz_web={\"Day\":[1,2,3,4,5,6], \"Visitors\":[1000,2000,2500,1000,100,4000], \"Bounce_rate\":[20,11,3,40,22,11]}"
   ]
  },
  {
   "cell_type": "code",
   "execution_count": 4,
   "id": "60a6f88b-6879-491f-92ad-7d092e1ea39b",
   "metadata": {},
   "outputs": [],
   "source": [
    "df=pd.DataFrame(xyz_web)"
   ]
  },
  {
   "cell_type": "code",
   "execution_count": 5,
   "id": "92b7e41a-d41e-4718-8154-0df501125fc3",
   "metadata": {},
   "outputs": [
    {
     "name": "stdout",
     "output_type": "stream",
     "text": [
      "   Day  Visitors  Bounce_rate\n",
      "0    1      1000           20\n",
      "1    2      2000           11\n"
     ]
    }
   ],
   "source": [
    "print(df.head(2))"
   ]
  },
  {
   "cell_type": "code",
   "execution_count": 6,
   "id": "1bf06730-6ffa-4eb4-a7d4-78089de0a642",
   "metadata": {},
   "outputs": [
    {
     "name": "stdout",
     "output_type": "stream",
     "text": [
      "   Day  Visitors  Bounce_rate\n",
      "4    5       100           22\n",
      "5    6      4000           11\n"
     ]
    }
   ],
   "source": [
    "print(df.tail(2))"
   ]
  },
  {
   "cell_type": "code",
   "execution_count": 7,
   "id": "b1748b3e-df2a-431f-aa03-332f00342fff",
   "metadata": {},
   "outputs": [],
   "source": [
    "#Merging the dataframes#\n",
    "df1=pd.DataFrame({\"HPI\":[80,90,70,60],\"INT_RATE\":[2,1,2,3],\"IND_GDP\":[50,45,45,67]},index=[2001,2002,2003,2004])"
   ]
  },
  {
   "cell_type": "code",
   "execution_count": 8,
   "id": "e3688b62-d119-41e1-8a24-2879f79ea6fa",
   "metadata": {},
   "outputs": [],
   "source": [
    "df2=pd.DataFrame({\"HPI\":[80,90,70,60],\"INT_RATE\":[2,1,2,3],\"IND_GDP\":[50,45,45,67]},index=[2005,2006,2007,2008])"
   ]
  },
  {
   "cell_type": "code",
   "execution_count": 9,
   "id": "d6e90f36-873e-4f25-9aea-e1b3a4e95731",
   "metadata": {},
   "outputs": [],
   "source": [
    "merge_dfs=pd.merge(df1,df2)"
   ]
  },
  {
   "cell_type": "code",
   "execution_count": 10,
   "id": "fc49b4e8-556e-4050-a788-7ba7a3ce16d7",
   "metadata": {},
   "outputs": [
    {
     "name": "stdout",
     "output_type": "stream",
     "text": [
      "   HPI  INT_RATE  IND_GDP\n",
      "0   80         2       50\n",
      "1   90         1       45\n",
      "2   70         2       45\n",
      "3   60         3       67\n"
     ]
    }
   ],
   "source": [
    "print(merge_dfs)"
   ]
  },
  {
   "cell_type": "code",
   "execution_count": 11,
   "id": "1b31931b-304e-425d-88b9-58b63435c8ab",
   "metadata": {},
   "outputs": [],
   "source": [
    "merge_dfs=pd.merge(df1,df2,on=\"HPI\")"
   ]
  },
  {
   "cell_type": "code",
   "execution_count": 12,
   "id": "357e89fe-ea78-4fe9-a01b-cf1fb41947f7",
   "metadata": {},
   "outputs": [
    {
     "name": "stdout",
     "output_type": "stream",
     "text": [
      "   HPI  INT_RATE_x  IND_GDP_x  INT_RATE_y  IND_GDP_y\n",
      "0   80           2         50           2         50\n",
      "1   90           1         45           1         45\n",
      "2   70           2         45           2         45\n",
      "3   60           3         67           3         67\n"
     ]
    }
   ],
   "source": [
    "print(merge_dfs)"
   ]
  },
  {
   "cell_type": "code",
   "execution_count": 13,
   "id": "7367913e-b0d6-4130-a935-2179df636447",
   "metadata": {},
   "outputs": [],
   "source": [
    "#Joining dataframes:=Based on index values#\n",
    "df1=pd.DataFrame({\"INT_RATE\":[2,1,2,3],\"IND_GDP\":[50,45,45,67]},index=[2001,2002,2003,2004])\n",
    "df2=pd.DataFrame({\"LOW_TIER_HPI\":[50,45,67,34],\"UNEMPLOYMENT\":[1,3,5,6]},index=[2001,2003,2004,2004])"
   ]
  },
  {
   "cell_type": "code",
   "execution_count": 14,
   "id": "ef160cc9-ff7d-4b4c-997d-b4277d575e20",
   "metadata": {},
   "outputs": [],
   "source": [
    "joined_dfs=df1.join(df2)"
   ]
  },
  {
   "cell_type": "code",
   "execution_count": 15,
   "id": "e475d682-53df-48a1-a8f6-7e77c4a3e8ae",
   "metadata": {},
   "outputs": [
    {
     "name": "stdout",
     "output_type": "stream",
     "text": [
      "      INT_RATE  IND_GDP  LOW_TIER_HPI  UNEMPLOYMENT\n",
      "2001         2       50          50.0           1.0\n",
      "2002         1       45           NaN           NaN\n",
      "2003         2       45          45.0           3.0\n",
      "2004         3       67          67.0           5.0\n",
      "2004         3       67          34.0           6.0\n"
     ]
    }
   ],
   "source": [
    "print(joined_dfs)"
   ]
  },
  {
   "cell_type": "code",
   "execution_count": 16,
   "id": "6e87005e-e356-4590-8ce5-e2c9a8de9c9e",
   "metadata": {},
   "outputs": [],
   "source": [
    "#Changing the index and renaming column header#\n",
    "abc={\"day\":[1,2,3,4],\"visitors\":[200,100,230,300],\"bounce_rate\":[2,33,23,1]}\n",
    "df=pd.DataFrame(abc)"
   ]
  },
  {
   "cell_type": "code",
   "execution_count": 17,
   "id": "4c93c467-fa34-4ed2-bd17-d038c8bc5b93",
   "metadata": {},
   "outputs": [
    {
     "name": "stdout",
     "output_type": "stream",
     "text": [
      "   day  visitors  bounce_rate\n",
      "0    1       200            2\n",
      "1    2       100           33\n",
      "2    3       230           23\n",
      "3    4       300            1\n"
     ]
    }
   ],
   "source": [
    "print(df)"
   ]
  },
  {
   "cell_type": "code",
   "execution_count": 18,
   "id": "dfbf429c-0eb3-426f-8701-995d0739dfa9",
   "metadata": {},
   "outputs": [],
   "source": [
    "df.set_index(\"day\",inplace=True)"
   ]
  },
  {
   "cell_type": "code",
   "execution_count": 19,
   "id": "d55972a8-8f09-421a-a54a-5d7666e1addb",
   "metadata": {},
   "outputs": [
    {
     "name": "stdout",
     "output_type": "stream",
     "text": [
      "     visitors  bounce_rate\n",
      "day                       \n",
      "1         200            2\n",
      "2         100           33\n",
      "3         230           23\n",
      "4         300            1\n"
     ]
    }
   ],
   "source": [
    "print(df)"
   ]
  },
  {
   "cell_type": "code",
   "execution_count": 20,
   "id": "f6d72ad9-b689-4ebd-adc9-8fde80229041",
   "metadata": {},
   "outputs": [],
   "source": [
    "import matplotlib.pyplot as plt"
   ]
  },
  {
   "cell_type": "code",
   "execution_count": 21,
   "id": "7b20ba12-a2df-47fd-a25e-aa1c8938c632",
   "metadata": {},
   "outputs": [],
   "source": [
    "from matplotlib import style"
   ]
  },
  {
   "cell_type": "code",
   "execution_count": 22,
   "id": "e98c0c0a-da3b-4b4e-9eb2-9a0cba8c3c87",
   "metadata": {},
   "outputs": [],
   "source": [
    "style.use(\"fivethirtyeight\")"
   ]
  },
  {
   "cell_type": "code",
   "execution_count": 23,
   "id": "93ab593f-90ba-4ecc-8dea-859cd52b9afc",
   "metadata": {},
   "outputs": [
    {
     "data": {
      "image/png": "[encoded data removed]",
      "text/plain": [
       "<Figure size 640x480 with 1 Axes>"
      ]
     },
     "metadata": {},
     "output_type": "display_data"
    }
   ],
   "source": [
    "df.plot()\n",
    "plt.show()"
   ]
  },
  {
   "cell_type": "code",
   "execution_count": 29,
   "id": "bc53ec0b-d3fc-4b71-ac63-8bb9dcdce8e9",
   "metadata": {},
   "outputs": [
    {
     "name": "stdout",
     "output_type": "stream",
     "text": [
      "     users  bounce_rate\n",
      "day                    \n",
      "1      200            2\n",
      "2      100           33\n",
      "3      230           23\n",
      "4      300            1\n"
     ]
    }
   ],
   "source": [
    "df=df.rename(columns={\"visitors\":\"users\"})\n",
    "print(df)"
   ]
  },
  {
   "cell_type": "code",
   "execution_count": 30,
   "id": "217bd79f-9f00-46ed-871b-7619ebeff6db",
   "metadata": {},
   "outputs": [],
   "source": [
    "#Concatenation#\n",
    "df1=pd.DataFrame({\"HPI\":[80,90,70,60],\"INT_RATE\":[2,1,2,3],\"IND_GDP\":[50,45,45,67]},index=[2001,2002,2003,2004])\n",
    "df2=pd.DataFrame({\"HPI\":[80,90,70,60],\"INT_RATE\":[2,1,2,3],\"IND_GDP\":[50,45,45,67]},index=[2001,2002,2003,2004])"
   ]
  },
  {
   "cell_type": "code",
   "execution_count": 31,
   "id": "7813016e-5a45-4876-9d36-fdd98d1a4d37",
   "metadata": {},
   "outputs": [
    {
     "name": "stdout",
     "output_type": "stream",
     "text": [
      "      HPI  INT_RATE  IND_GDP\n",
      "2001   80         2       50\n",
      "2002   90         1       45\n",
      "2003   70         2       45\n",
      "2004   60         3       67\n",
      "2001   80         2       50\n",
      "2002   90         1       45\n",
      "2003   70         2       45\n",
      "2004   60         3       67\n"
     ]
    }
   ],
   "source": [
    "concat=pd.concat([df1,df2])\n",
    "print(concat)"
   ]
  },
  {
   "cell_type": "code",
   "execution_count": null,
   "id": "f2eb0548-39cc-4779-9860-4212d0b38950",
   "metadata": {},
   "outputs": [],
   "source": []
  }
 ],
 "metadata": {
  "kernelspec": {
   "display_name": "Python 3 (ipykernel)",
   "language": "python",
   "name": "python3"
  },
  "language_info": {
   "codemirror_mode": {
    "name": "ipython",
    "version": 3
   },
   "file_extension": ".py",
   "mimetype": "text/x-python",
   "name": "python",
   "nbconvert_exporter": "python",
   "pygments_lexer": "ipython3",
   "version": "3.11.7"
  }
 },
 "nbformat": 4,
 "nbformat_minor": 5
}
