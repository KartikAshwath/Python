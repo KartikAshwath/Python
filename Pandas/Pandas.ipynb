{
 "cells": [
  {
   "cell_type": "code",
   "execution_count": 1,
   "id": "fd6aa083-5a07-471a-be9e-a6eb5f42c930",
   "metadata": {},
   "outputs": [],
   "source": [
    "import pandas as pd"
   ]
  },
  {
   "cell_type": "code",
   "execution_count": 2,
   "id": "92a16719-9690-4b64-9a72-f14125c378a6",
   "metadata": {},
   "outputs": [],
   "source": [
    "xyz_web={\"Day\":[1,2,3,4,5,6], \"Visitors\":[1000,2000,2500,1000,100,4000], \"Bounce_rate\":[20,11,3,40,22,11]}"
   ]
  },
  {
   "cell_type": "code",
   "execution_count": 3,
   "id": "64c90246-eb40-4d7d-b0dc-9891075dfff8",
   "metadata": {},
   "outputs": [],
   "source": [
    "df=pd.DataFrame(xyz_web,index=['a','b','c','d','e','f'])"
   ]
  },
  {
   "cell_type": "code",
   "execution_count": 4,
   "id": "41d3d8d1-cc00-4ac6-8cd5-55c3e426c6b9",
   "metadata": {},
   "outputs": [
    {
     "name": "stdout",
     "output_type": "stream",
     "text": [
      "   Day  Visitors  Bounce_rate\n",
      "a    1      1000           20\n",
      "b    2      2000           11\n",
      "c    3      2500            3\n",
      "d    4      1000           40\n",
      "e    5       100           22\n",
      "f    6      4000           11\n"
     ]
    }
   ],
   "source": [
    "print(df)"
   ]
  },
  {
   "cell_type": "code",
   "execution_count": null,
   "id": "4f226e4e-f504-4cd7-bbf2-910aae602a60",
   "metadata": {},
   "outputs": [],
   "source": []
  }
 ],
 "metadata": {
  "kernelspec": {
   "display_name": "Python 3 (ipykernel)",
   "language": "python",
   "name": "python3"
  },
  "language_info": {
   "codemirror_mode": {
    "name": "ipython",
    "version": 3
   },
   "file_extension": ".py",
   "mimetype": "text/x-python",
   "name": "python",
   "nbconvert_exporter": "python",
   "pygments_lexer": "ipython3",
   "version": "3.11.7"
  }
 },
 "nbformat": 4,
 "nbformat_minor": 5
}
