{
 "cells": [
  {
   "cell_type": "markdown",
   "id": "3cd3da8b-6423-4b11-9290-dc3fe09060e8",
   "metadata": {},
   "source": [
    "#SPECIAL"
   ]
  },
  {
   "cell_type": "code",
   "execution_count": 1,
   "id": "bbb20fe2-5dd1-4c9c-b333-ed4a5430d1d8",
   "metadata": {},
   "outputs": [],
   "source": [
    "import scipy\n",
    "from scipy import special"
   ]
  },
  {
   "cell_type": "code",
   "execution_count": 2,
   "id": "c754d934-53f0-4a9d-9013-ff69a8750430",
   "metadata": {},
   "outputs": [],
   "source": [
    "a=special.exp10(2)"
   ]
  },
  {
   "cell_type": "code",
   "execution_count": 3,
   "id": "e5556335-5bd5-47d7-a16c-d21aee815285",
   "metadata": {},
   "outputs": [
    {
     "name": "stdout",
     "output_type": "stream",
     "text": [
      "100.0\n"
     ]
    }
   ],
   "source": [
    "print(a)"
   ]
  },
  {
   "cell_type": "code",
   "execution_count": 4,
   "id": "2adb6270-b6de-4419-910d-807a4a8a1f07",
   "metadata": {},
   "outputs": [],
   "source": [
    "b=special.exp2(3)"
   ]
  },
  {
   "cell_type": "code",
   "execution_count": 5,
   "id": "e18ebf17-262b-4666-a5b5-dd1c636632f6",
   "metadata": {},
   "outputs": [
    {
     "name": "stdout",
     "output_type": "stream",
     "text": [
      "8.0\n"
     ]
    }
   ],
   "source": [
    "print(b)"
   ]
  },
  {
   "cell_type": "code",
   "execution_count": 6,
   "id": "586a6828-db27-4334-8404-9998f9f1684e",
   "metadata": {},
   "outputs": [],
   "source": [
    "c=special.sindg(90)"
   ]
  },
  {
   "cell_type": "code",
   "execution_count": 7,
   "id": "373ab155-007b-4421-aa5f-e59873593d08",
   "metadata": {},
   "outputs": [
    {
     "name": "stdout",
     "output_type": "stream",
     "text": [
      "1.0\n"
     ]
    }
   ],
   "source": [
    "print(c)"
   ]
  },
  {
   "cell_type": "markdown",
   "id": "0773a2b2-f3c0-4dfe-ae70-dfcd107ecf57",
   "metadata": {},
   "source": [
    "#INTEGRATION"
   ]
  },
  {
   "cell_type": "code",
   "execution_count": 8,
   "id": "45cf824f-b25c-41ae-b308-65e570335575",
   "metadata": {},
   "outputs": [],
   "source": [
    "from scipy import integrate\n",
    "i=scipy.integrate.quad(lambda x:special.exp10(x),0,1)"
   ]
  },
  {
   "cell_type": "code",
   "execution_count": 10,
   "id": "4ffd1d92-5890-4f31-98e6-27d42f597063",
   "metadata": {},
   "outputs": [
    {
     "name": "stdout",
     "output_type": "stream",
     "text": [
      "(3.9086503371292665, 4.3394735994897923e-14)\n"
     ]
    }
   ],
   "source": [
    "print(i)"
   ]
  },
  {
   "cell_type": "markdown",
   "id": "e59f6fd8-ab9e-48fd-ab74-5ce6b955e6c0",
   "metadata": {},
   "source": [
    "#Fourier Transformations"
   ]
  },
  {
   "cell_type": "code",
   "execution_count": 22,
   "id": "a2baa6ca-cf28-473c-82f4-4729b2013c04",
   "metadata": {},
   "outputs": [],
   "source": [
    "from scipy.fftpack import fft,ifft\n",
    "import numpy as np\n",
    "x=np.array([1,2,3,4])"
   ]
  },
  {
   "cell_type": "code",
   "execution_count": 23,
   "id": "4348277e-1da0-4dbd-a9e9-927b9bcce4cc",
   "metadata": {},
   "outputs": [
    {
     "name": "stdout",
     "output_type": "stream",
     "text": [
      "[10.-0.j -2.+2.j -2.-0.j -2.-2.j]\n"
     ]
    }
   ],
   "source": [
    "y=fft(x)\n",
    "print(y)"
   ]
  },
  {
   "cell_type": "code",
   "execution_count": 25,
   "id": "41bf7f52-586d-4320-a81a-7cd26465f44e",
   "metadata": {},
   "outputs": [
    {
     "name": "stdout",
     "output_type": "stream",
     "text": [
      "[ 2.5-0.j  -0.5-0.5j -0.5-0.j  -0.5+0.5j]\n"
     ]
    }
   ],
   "source": [
    "y=ifft(x)\n",
    "print(y)"
   ]
  },
  {
   "cell_type": "markdown",
   "id": "425364f2-1d70-4edf-a0e5-299ed3101ab6",
   "metadata": {},
   "source": [
    "#LINEAR ALGEBRA"
   ]
  },
  {
   "cell_type": "code",
   "execution_count": 32,
   "id": "5b573182-ae50-48c2-a0d7-699c976c9681",
   "metadata": {},
   "outputs": [
    {
     "name": "stdout",
     "output_type": "stream",
     "text": [
      "[[-2.   1. ]\n",
      " [ 1.5 -0.5]]\n"
     ]
    }
   ],
   "source": [
    "from scipy import linalg\n",
    "a=np.array([[1,2],[3,4]])\n",
    "b=linalg.inv(a)\n",
    "print(b)"
   ]
  },
  {
   "cell_type": "markdown",
   "id": "faf69f83-eff8-4f70-8392-769d708f580f",
   "metadata": {},
   "source": [
    "#INTERPOLATION FUNCTION"
   ]
  },
  {
   "cell_type": "code",
   "execution_count": null,
   "id": "d3eb8074-44ec-44f8-900d-752861460102",
   "metadata": {},
   "outputs": [],
   "source": []
  }
 ],
 "metadata": {
  "kernelspec": {
   "display_name": "Python 3 (ipykernel)",
   "language": "python",
   "name": "python3"
  },
  "language_info": {
   "codemirror_mode": {
    "name": "ipython",
    "version": 3
   },
   "file_extension": ".py",
   "mimetype": "text/x-python",
   "name": "python",
   "nbconvert_exporter": "python",
   "pygments_lexer": "ipython3",
   "version": "3.11.7"
  }
 },
 "nbformat": 4,
 "nbformat_minor": 5
}
