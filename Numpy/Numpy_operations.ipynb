{
 "cells": [
  {
   "cell_type": "code",
   "execution_count": 2,
   "id": "d142c6f2-c46b-4878-a06c-64fe6c256707",
   "metadata": {},
   "outputs": [],
   "source": [
    "import numpy as np"
   ]
  },
  {
   "cell_type": "code",
   "execution_count": 3,
   "id": "5d5e4bc3-7ec7-4882-9ff9-c3fa155d8e74",
   "metadata": {},
   "outputs": [
    {
     "name": "stdout",
     "output_type": "stream",
     "text": [
      "2\n",
      "[[2 5 7]\n",
      " [1 0 8]\n",
      " [1 2 3]]\n"
     ]
    }
   ],
   "source": [
    "#Find dimension of the array#\n",
    "a=np.array([(2,5,7),(1,0,8),(1,2,3)])\n",
    "print(a.ndim)\n",
    "print(a)"
   ]
  },
  {
   "cell_type": "code",
   "execution_count": 6,
   "id": "50f9266f-979e-4ed7-976d-435fb51afba6",
   "metadata": {},
   "outputs": [
    {
     "name": "stdout",
     "output_type": "stream",
     "text": [
      "4\n"
     ]
    }
   ],
   "source": [
    "#Find byte size of an element in the array#\n",
    "a=np.array([(2,5,7),(1,0,8),(1,2,3)])\n",
    "print(a.itemsize)"
   ]
  },
  {
   "cell_type": "code",
   "execution_count": 7,
   "id": "b085937f-5bd9-4e86-8efb-8da0b3c926b7",
   "metadata": {},
   "outputs": [
    {
     "name": "stdout",
     "output_type": "stream",
     "text": [
      "int32\n"
     ]
    }
   ],
   "source": [
    "#Find datatype of an element in the array#\n",
    "a=np.array([(2,5,7),(1,0,8),(1,2,3)])\n",
    "print(a.dtype)"
   ]
  },
  {
   "cell_type": "code",
   "execution_count": 11,
   "id": "ff8309bf-7b76-4404-b13c-689a5e21c4fd",
   "metadata": {},
   "outputs": [
    {
     "name": "stdout",
     "output_type": "stream",
     "text": [
      "9\n",
      "(3, 3)\n"
     ]
    }
   ],
   "source": [
    "#Find size of an array#\n",
    "a=np.array([(2,5,7),(1,0,8),(1,2,3)])\n",
    "print(a.size)\n",
    "print(a.shape)"
   ]
  },
  {
   "cell_type": "code",
   "execution_count": 9,
   "id": "f75391b6-f287-45cc-a48c-9cfe5f47c7a3",
   "metadata": {},
   "outputs": [
    {
     "name": "stdout",
     "output_type": "stream",
     "text": [
      "(3, 3)\n"
     ]
    }
   ],
   "source": [
    "#Find shape of an array#\n",
    "a=np.array([(2,5,7),(1,0,8),(1,2,3)])\n",
    "print(a.shape)"
   ]
  },
  {
   "cell_type": "code",
   "execution_count": 4,
   "id": "ed1b7f47-4443-4b12-8fca-58e35d652840",
   "metadata": {},
   "outputs": [
    {
     "name": "stdout",
     "output_type": "stream",
     "text": [
      "[[2 5]\n",
      " [7 1]\n",
      " [0 8]]\n",
      "[[2]\n",
      " [5]\n",
      " [7]\n",
      " [1]\n",
      " [0]\n",
      " [8]]\n"
     ]
    }
   ],
   "source": [
    "#Reshapeing of an array#\n",
    "a=np.array([(2,5,7),(1,0,8)])\n",
    "print(a.reshape(3,2))\n",
    "print(a.reshape(6,1))"
   ]
  },
  {
   "cell_type": "code",
   "execution_count": 12,
   "id": "0c57fa82-a93a-40cb-a31e-627506521ad7",
   "metadata": {},
   "outputs": [
    {
     "name": "stdout",
     "output_type": "stream",
     "text": [
      "[7 8]\n",
      "[7 8]\n",
      "[7 8 3]\n"
     ]
    }
   ],
   "source": [
    "#Slicing of an array#\n",
    "a=np.array([(2,5,7),(1,0,8)])\n",
    "print(a[0:,2])\n",
    "a=np.array([(2,5,7),(1,0,8),(1,2,3)])\n",
    "print(a[0:2,2])\n",
    "a=np.array([(2,5,7),(1,0,8),(1,2,3)])\n",
    "print(a[0:,2])"
   ]
  },
  {
   "cell_type": "code",
   "execution_count": 10,
   "id": "cfd83f2e-33e0-4821-a68d-1f6ec927cdd1",
   "metadata": {},
   "outputs": [
    {
     "name": "stdout",
     "output_type": "stream",
     "text": [
      "8\n",
      "0\n",
      "23\n"
     ]
    }
   ],
   "source": [
    "#Max,Min and Sum of an array#\n",
    "a=np.array([[2,5,7],[1,0,8]])\n",
    "print(a.max())\n",
    "print(a.min())\n",
    "print(a.sum())"
   ]
  },
  {
   "cell_type": "code",
   "execution_count": 21,
   "id": "c0ea8597-8e5c-4f2a-b46a-cec521d6f553",
   "metadata": {},
   "outputs": [
    {
     "name": "stdout",
     "output_type": "stream",
     "text": [
      "[ 3  5 15]\n",
      "[14  9]\n"
     ]
    }
   ],
   "source": [
    "#Axis operation in array axis=0 for rows and axis=1 for columns#\n",
    "a=np.array([(2,5,7),(1,0,8)])\n",
    "print(a.sum(axis=0))\n",
    "print(a.sum(axis=1))"
   ]
  },
  {
   "cell_type": "code",
   "execution_count": 14,
   "id": "ba7c3d20-9710-4b46-9c51-652ceac61ce2",
   "metadata": {},
   "outputs": [
    {
     "name": "stdout",
     "output_type": "stream",
     "text": [
      "[[1.41421356 2.23606798 2.64575131]\n",
      " [1.         0.         2.82842712]]\n"
     ]
    }
   ],
   "source": [
    "#Square root of an array#\n",
    "a=np.array([(2,5,7),(1,0,8)])\n",
    "print(np.sqrt(a))"
   ]
  },
  {
   "cell_type": "code",
   "execution_count": 15,
   "id": "7bd56aa7-f4a7-4872-ae80-d9ad17e9a505",
   "metadata": {},
   "outputs": [
    {
     "name": "stdout",
     "output_type": "stream",
     "text": [
      "3.0230595245361758\n"
     ]
    }
   ],
   "source": [
    "#Standard Deviation of an array#\n",
    "a=np.array([(2,5,7),(1,0,8)])\n",
    "print(np.std(a))"
   ]
  },
  {
   "cell_type": "code",
   "execution_count": 16,
   "id": "3b084bff-86a2-4aab-8efa-b45ab651e33a",
   "metadata": {},
   "outputs": [
    {
     "name": "stdout",
     "output_type": "stream",
     "text": [
      "[[ 4 10 14]\n",
      " [ 2  0 16]]\n"
     ]
    }
   ],
   "source": [
    "#Airthematic operations on an array#\n",
    "a=np.array([(2,5,7),(1,0,8)])\n",
    "b=np.array([(2,5,7),(1,0,8)])\n",
    "print(a+b)"
   ]
  },
  {
   "cell_type": "code",
   "execution_count": 7,
   "id": "e1e80322-1cac-43b6-b90f-590a32d0930c",
   "metadata": {},
   "outputs": [
    {
     "name": "stdout",
     "output_type": "stream",
     "text": [
      "[[2 5 7]\n",
      " [1 0 8]\n",
      " [2 6 7]\n",
      " [1 0 8]]\n",
      "[[2 5 7 2 6 7]\n",
      " [1 0 8 1 0 8]]\n",
      "[2 5 7 1 0 8]\n"
     ]
    }
   ],
   "source": [
    "#Concatination of arrays vertical and horizantal stacking#\n",
    "a=np.array([(2,5,7),(1,0,8)])\n",
    "b=np.array([(2,6,7),(1,0,8)])\n",
    "print(np.vstack((a,b)))\n",
    "print(np.hstack((a,b)))\n",
    "\n",
    "#To put all the elements of an array into single dimension#\n",
    "print(np.ravel(a))"
   ]
  },
  {
   "cell_type": "code",
   "execution_count": null,
   "id": "9672c566-acae-4646-b788-6d66db23b457",
   "metadata": {},
   "outputs": [],
   "source": []
  }
 ],
 "metadata": {
  "kernelspec": {
   "display_name": "Python 3 (ipykernel)",
   "language": "python",
   "name": "python3"
  },
  "language_info": {
   "codemirror_mode": {
    "name": "ipython",
    "version": 3
   },
   "file_extension": ".py",
   "mimetype": "text/x-python",
   "name": "python",
   "nbconvert_exporter": "python",
   "pygments_lexer": "ipython3",
   "version": "3.11.7"
  }
 },
 "nbformat": 4,
 "nbformat_minor": 5
}
