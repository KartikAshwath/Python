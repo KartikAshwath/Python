{
 "cells": [
  {
   "cell_type": "code",
   "execution_count": 1,
   "id": "d9ebcc53-d981-48d3-ae2c-b9e9433c28dd",
   "metadata": {},
   "outputs": [],
   "source": [
    "import numpy as np\n",
    "import sys"
   ]
  },
  {
   "cell_type": "code",
   "execution_count": 7,
   "id": "27c944de-ac5f-4cf5-a51f-587dee0fe68a",
   "metadata": {},
   "outputs": [],
   "source": [
    "list_memory=range(1000)"
   ]
  },
  {
   "cell_type": "code",
   "execution_count": 8,
   "id": "df7a4cef-9a18-4b04-8ccf-2d8e82ccef56",
   "metadata": {},
   "outputs": [
    {
     "name": "stdout",
     "output_type": "stream",
     "text": [
      "28000\n"
     ]
    }
   ],
   "source": [
    "print(sys.getsizeof(5)*len(list_memory))"
   ]
  },
  {
   "cell_type": "code",
   "execution_count": 9,
   "id": "7e595d33-aa1f-40f1-aafb-a4ce6e6a4a4d",
   "metadata": {},
   "outputs": [],
   "source": [
    "numpy_memory=np.arange(1000)"
   ]
  },
  {
   "cell_type": "code",
   "execution_count": 10,
   "id": "8c43b550-2784-4e9b-b7de-d941d53bde83",
   "metadata": {},
   "outputs": [
    {
     "name": "stdout",
     "output_type": "stream",
     "text": [
      "4000\n"
     ]
    }
   ],
   "source": [
    "print(numpy_memory.itemsize*numpy_memory.size)"
   ]
  },
  {
   "cell_type": "code",
   "execution_count": 17,
   "id": "cfc9d1b7-b6a8-4ace-b65b-2e49f5555b1b",
   "metadata": {},
   "outputs": [],
   "source": [
    "# Time taken#\n",
    "import time\n",
    "SIZE=1000000"
   ]
  },
  {
   "cell_type": "code",
   "execution_count": 20,
   "id": "56e8073e-11eb-48d7-991c-122330f2b1b7",
   "metadata": {},
   "outputs": [
    {
     "name": "stdout",
     "output_type": "stream",
     "text": [
      "126.44052505493164\n"
     ]
    }
   ],
   "source": [
    "L1=range(SIZE)\n",
    "L2=range(SIZE)\n",
    "start=time.time()\n",
    "result=[(x,y) for x,y in zip(L1,L2)]\n",
    "print((time.time()-start)*1000)"
   ]
  },
  {
   "cell_type": "code",
   "execution_count": 21,
   "id": "83502ba0-c44e-4082-82ca-8e860352d930",
   "metadata": {},
   "outputs": [
    {
     "name": "stdout",
     "output_type": "stream",
     "text": [
      "39.31856155395508\n"
     ]
    }
   ],
   "source": [
    "NP1=np.arange(SIZE)\n",
    "NP2=np.arange(SIZE)\n",
    "start=time.time()\n",
    "result=NP1+NP2\n",
    "print((time.time()-start)*1000)"
   ]
  },
  {
   "cell_type": "code",
   "execution_count": null,
   "id": "41eeafda-e98a-4bb4-9c1f-06246ea305ad",
   "metadata": {},
   "outputs": [],
   "source": []
  }
 ],
 "metadata": {
  "kernelspec": {
   "display_name": "Python 3 (ipykernel)",
   "language": "python",
   "name": "python3"
  },
  "language_info": {
   "codemirror_mode": {
    "name": "ipython",
    "version": 3
   },
   "file_extension": ".py",
   "mimetype": "text/x-python",
   "name": "python",
   "nbconvert_exporter": "python",
   "pygments_lexer": "ipython3",
   "version": "3.11.7"
  }
 },
 "nbformat": 4,
 "nbformat_minor": 5
}
